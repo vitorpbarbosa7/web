{
 "cells": [
  {
   "cell_type": "code",
   "execution_count": 7,
   "id": "5a042f6e",
   "metadata": {},
   "outputs": [
    {
     "name": "stdout",
     "output_type": "stream",
     "text": [
      "The kedro.extras.extensions.ipython extension is already loaded. To reload it, use:\n",
      "  %reload_ext kedro.extras.extensions.ipython\n",
      "2022-04-21 11:49:43,624 - root - INFO - No path argument was provided. Using: /Users/vpb/Documents/01_ds/git/03_kedro/ames\n",
      "2022-04-21 11:49:43,780 - kedro.framework.session.store - INFO - `read()` not implemented for `BaseSessionStore`. Assuming empty store.\n",
      "2022-04-21 11:49:43,910 - root - INFO - ** Kedro project ames\n",
      "2022-04-21 11:49:43,911 - root - INFO - Defined global variable `context`, `session`, `catalog` and `pipelines`\n",
      "2022-04-21 11:49:43,920 - root - INFO - Registered line magic `run_viz`\n"
     ]
    }
   ],
   "source": [
    "%load_ext kedro.extras.extensions.ipython\n",
    "%reload_kedro"
   ]
  },
  {
   "cell_type": "code",
   "execution_count": 8,
   "id": "0c61719a",
   "metadata": {},
   "outputs": [
    {
     "name": "stdout",
     "output_type": "stream",
     "text": [
      "README.md              \u001b[1m\u001b[36mjinja\u001b[m\u001b[m/                 requirements_auto.txt\r\n",
      "\u001b[1m\u001b[36mconf\u001b[m\u001b[m/                  \u001b[1m\u001b[36mlogs\u001b[m\u001b[m/                  run_viz.ipynb\r\n",
      "\u001b[1m\u001b[36mdata\u001b[m\u001b[m/                  \u001b[1m\u001b[36mnotebooks\u001b[m\u001b[m/             setup.cfg\r\n",
      "\u001b[1m\u001b[36mdocs\u001b[m\u001b[m/                  pyproject.toml         \u001b[1m\u001b[36msrc\u001b[m\u001b[m/\r\n",
      "info.log               requirements.txt\r\n"
     ]
    }
   ],
   "source": [
    "ls"
   ]
  },
  {
   "cell_type": "code",
   "execution_count": null,
   "id": "5fa1858a",
   "metadata": {},
   "outputs": [
    {
     "name": "stdout",
     "output_type": "stream",
     "text": [
      "2022-04-21 11:49:44,183 - kedro.framework.session.store - INFO - `read()` not implemented for `BaseSessionStore`. Assuming empty store.\n"
     ]
    },
    {
     "name": "stderr",
     "output_type": "stream",
     "text": [
      "Process Process-3:\n",
      "Traceback (most recent call last):\n",
      "  File \"/Users/vpb/anaconda3/envs/kenv/lib/python3.7/multiprocessing/process.py\", line 297, in _bootstrap\n",
      "    self.run()\n",
      "  File \"/Users/vpb/anaconda3/envs/kenv/lib/python3.7/multiprocessing/process.py\", line 99, in run\n",
      "    self._target(*self._args, **self._kwargs)\n",
      "  File \"/Users/vpb/anaconda3/envs/kenv/lib/python3.7/site-packages/kedro_viz/server.py\", line 76, in run_server\n",
      "    path, env\n",
      "  File \"/Users/vpb/anaconda3/envs/kenv/lib/python3.7/site-packages/kedro_viz/integrations/kedro/data_loader.py\", line 60, in load_data\n",
      "    project_path=project_path, env=env, save_on_close=False\n",
      "  File \"/Users/vpb/anaconda3/envs/kenv/lib/python3.7/site-packages/kedro/framework/session/session.py\", line 286, in __enter__\n",
      "    _activate_session(self)\n",
      "  File \"/Users/vpb/anaconda3/envs/kenv/lib/python3.7/site-packages/kedro/framework/session/session.py\", line 39, in _activate_session\n",
      "    \"Cannot activate the session as another active session already exists.\"\n",
      "RuntimeError: Cannot activate the session as another active session already exists.\n"
     ]
    }
   ],
   "source": [
    "%run_viz"
   ]
  },
  {
   "cell_type": "code",
   "execution_count": null,
   "id": "3aa4edf2",
   "metadata": {},
   "outputs": [],
   "source": []
  }
 ],
 "metadata": {
  "kernelspec": {
   "display_name": "Kedro (ames)",
   "language": "python",
   "name": "kedro_ames"
  },
  "language_info": {
   "codemirror_mode": {
    "name": "ipython",
    "version": 3
   },
   "file_extension": ".py",
   "mimetype": "text/x-python",
   "name": "python",
   "nbconvert_exporter": "python",
   "pygments_lexer": "ipython3",
   "version": "3.7.2"
  }
 },
 "nbformat": 4,
 "nbformat_minor": 5
}
