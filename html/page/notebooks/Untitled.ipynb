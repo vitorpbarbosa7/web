{
 "cells": [
  {
   "cell_type": "code",
   "execution_count": 28,
   "id": "fb41c38d",
   "metadata": {},
   "outputs": [
    {
     "name": "stdout",
     "output_type": "stream",
     "text": [
      "The kedro.extras.extensions.ipython extension is already loaded. To reload it, use:\n",
      "  %reload_ext kedro.extras.extensions.ipython\n",
      "2022-04-21 09:08:54,427 - root - INFO - No path argument was provided. Using: /Users/vpb/Documents/01_ds/git/03_kedro/ames\n",
      "2022-04-21 09:08:54,546 - kedro.framework.session.store - INFO - `read()` not implemented for `BaseSessionStore`. Assuming empty store.\n",
      "2022-04-21 09:08:54,630 - root - INFO - ** Kedro project ames\n",
      "2022-04-21 09:08:54,631 - root - INFO - Defined global variable `context`, `session`, `catalog` and `pipelines`\n"
     ]
    }
   ],
   "source": [
    "%load_ext kedro.extras.extensions.ipython\n",
    "%reload_kedro"
   ]
  },
  {
   "cell_type": "code",
   "execution_count": 32,
   "id": "75f001a9",
   "metadata": {},
   "outputs": [
    {
     "data": {
      "text/plain": [
       "<kedro.framework.context.context.KedroContext at 0x7f93f090c4a8>"
      ]
     },
     "execution_count": 32,
     "metadata": {},
     "output_type": "execute_result"
    }
   ],
   "source": [
    "context"
   ]
  },
  {
   "cell_type": "code",
   "execution_count": 6,
   "id": "5ad55108",
   "metadata": {},
   "outputs": [
    {
     "data": {
      "text/plain": [
       "['query',\n",
       " 'alldata',\n",
       " 'X_dev',\n",
       " 'y_dev',\n",
       " 'X_train',\n",
       " 'X_test',\n",
       " 'y_train',\n",
       " 'y_test',\n",
       " 'train',\n",
       " 'test',\n",
       " 'train_dropped',\n",
       " 'train_categorical',\n",
       " 'train_numeric',\n",
       " 'test_dropped',\n",
       " 'test_categorical',\n",
       " 'test_numeric',\n",
       " 'train_joined_num_cat',\n",
       " 'test_joined_num_cat',\n",
       " 'parameters',\n",
       " 'params:vars',\n",
       " 'params:vars.target',\n",
       " 'params:preprocess',\n",
       " 'params:preprocess.test_size',\n",
       " 'params:preprocess.dropvars',\n",
       " 'params:preprocess.categoricalvars']"
      ]
     },
     "execution_count": 6,
     "metadata": {},
     "output_type": "execute_result"
    }
   ],
   "source": [
    "catalog.list()"
   ]
  },
  {
   "cell_type": "code",
   "execution_count": 8,
   "id": "a4c7f48c",
   "metadata": {},
   "outputs": [
    {
     "name": "stdout",
     "output_type": "stream",
     "text": [
      "2022-04-21 08:59:53,536 - kedro.io.data_catalog - INFO - Loading data from `y_train` (CSVDataSet)...\n"
     ]
    }
   ],
   "source": [
    "y_train = catalog.load('y_train')"
   ]
  },
  {
   "cell_type": "code",
   "execution_count": null,
   "id": "bef0f23a",
   "metadata": {},
   "outputs": [],
   "source": []
  }
 ],
 "metadata": {
  "kernelspec": {
   "display_name": "Kedro (ames)",
   "language": "python",
   "name": "kedro_ames"
  },
  "language_info": {
   "codemirror_mode": {
    "name": "ipython",
    "version": 3
   },
   "file_extension": ".py",
   "mimetype": "text/x-python",
   "name": "python",
   "nbconvert_exporter": "python",
   "pygments_lexer": "ipython3",
   "version": "3.7.0"
  }
 },
 "nbformat": 4,
 "nbformat_minor": 5
}
