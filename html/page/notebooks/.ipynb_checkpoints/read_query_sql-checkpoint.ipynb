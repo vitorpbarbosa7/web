{
 "cells": [
  {
   "cell_type": "code",
   "execution_count": 93,
   "id": "42e65367",
   "metadata": {},
   "outputs": [
    {
     "name": "stdout",
     "output_type": "stream",
     "text": [
      "The kedro.extras.extensions.ipython extension is already loaded. To reload it, use:\n",
      "  %reload_ext kedro.extras.extensions.ipython\n",
      "2022-04-22 19:36:11,507 - root - INFO - No path argument was provided. Using: /Users/vpb/Documents/01_ds/git/03_kedro/ames\n",
      "2022-04-22 19:36:11,647 - kedro.framework.session.store - INFO - `read()` not implemented for `BaseSessionStore`. Assuming empty store.\n",
      "2022-04-22 19:36:11,729 - root - INFO - ** Kedro project ames\n",
      "2022-04-22 19:36:11,730 - root - INFO - Defined global variable `context`, `session`, `catalog` and `pipelines`\n",
      "2022-04-22 19:36:11,738 - root - INFO - Registered line magic `run_viz`\n"
     ]
    }
   ],
   "source": [
    "from jinja2 import Template\n",
    "\n",
    "%load_ext kedro.extras.extensions.ipython\n",
    "%reload_kedro"
   ]
  },
  {
   "cell_type": "code",
   "execution_count": 94,
   "id": "1760abad",
   "metadata": {},
   "outputs": [
    {
     "name": "stdout",
     "output_type": "stream",
     "text": [
      "2022-04-22 19:36:11,759 - kedro.io.data_catalog - INFO - Loading data from `alldata` (CSVDataSet)...\n",
      "2022-04-22 19:36:11,779 - kedro.io.data_catalog - INFO - Loading data from `query` (TextDataSet)...\n",
      "select\n",
      "    user_id\n",
      "    , count(*) as num_transactions\n",
      "    , sum(amount) as total_amount\n",
      "from\n",
      "    transactions\n",
      "where\n",
      "    user_id = {{ ref }}\n",
      "    and transaction_date = {{ particao_publico }}\n",
      "group by\n",
      "    user_id\n"
     ]
    }
   ],
   "source": [
    "alldata = catalog.load('alldata')\n",
    "\n",
    "query = catalog.load('query')\n",
    "\n",
    "print(query)"
   ]
  },
  {
   "cell_type": "code",
   "execution_count": 95,
   "id": "070f9fe8",
   "metadata": {},
   "outputs": [],
   "source": [
    "ref = '202202'\n",
    "particao_publico = 'teste_v1'\n",
    "\n",
    "params = {\n",
    "    'ref': ref,\n",
    "    'particao_publico': particao_publico\n",
    "}"
   ]
  },
  {
   "cell_type": "code",
   "execution_count": 96,
   "id": "925e683e",
   "metadata": {},
   "outputs": [
    {
     "name": "stdout",
     "output_type": "stream",
     "text": [
      "select\n",
      "    user_id\n",
      "    , count(*) as num_transactions\n",
      "    , sum(amount) as total_amount\n",
      "from\n",
      "    transactions\n",
      "where\n",
      "    user_id = 202202\n",
      "    and transaction_date = teste_v1\n",
      "group by\n",
      "    user_id\n"
     ]
    }
   ],
   "source": [
    "query_template = Template(query)\n",
    "\n",
    "query_final = query_template.render(params)\n",
    "\n",
    "print(query_final)"
   ]
  }
 ],
 "metadata": {
  "kernelspec": {
   "display_name": "Python 3 (ipykernel)",
   "language": "python",
   "name": "python3"
  },
  "language_info": {
   "codemirror_mode": {
    "name": "ipython",
    "version": 3
   },
   "file_extension": ".py",
   "mimetype": "text/x-python",
   "name": "python",
   "nbconvert_exporter": "python",
   "pygments_lexer": "ipython3",
   "version": "3.7.2"
  }
 },
 "nbformat": 4,
 "nbformat_minor": 5
}
